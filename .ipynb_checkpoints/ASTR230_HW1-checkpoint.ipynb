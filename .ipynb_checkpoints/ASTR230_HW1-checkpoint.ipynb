{
 "cells": [
  {
   "cell_type": "code",
   "execution_count": 5,
   "metadata": {},
   "outputs": [
    {
     "name": "stdout",
     "output_type": "stream",
     "text": [
      "Populating the interactive namespace from numpy and matplotlib\n"
     ]
    }
   ],
   "source": [
    "#Start all notebooks with this line.  It sets a lot of variables to values we want to use,\n",
    "#and reads in some important packages of routines, too.\n",
    "%pylab inline"
   ]
  },
  {
   "cell_type": "markdown",
   "metadata": {},
   "source": [
    "## Introductory notes: A few python tips, and some sample code"
   ]
  },
  {
   "cell_type": "markdown",
   "metadata": {},
   "source": [
    "A few python tips:\n",
    "\n",
    "To run a cell in an ipython notebook, hold down the Shift key while you press Return or Enter.  Or, use the play arrow.\n",
    "\n",
    "Save your notebook often.  There is no un-do button.\n",
    "\n",
    "Use #'s at the beginning of a line to make them comments.\n",
    "\n",
    "Google is your friend.  Your questions about python can probaby be answered with a few minutes of googling.\n",
    "\n",
    "Python plots are made with something called matplotlib, so for questions about plots, add \"matplotlib\" to your search string in google."
   ]
  },
  {
   "cell_type": "code",
   "execution_count": 9,
   "metadata": {},
   "outputs": [],
   "source": [
    "planet_names=[\"Mercury\", \"Venus\", \"Earth\"]    #Fill out with other planets\n",
    "planet_a=np.array([1,2,3])     #Replace/add the planet semi-major axes here\n",
    "planet_mass=np.array([100,200,300])   #Replace/add the planet masses here"
   ]
  },
  {
   "cell_type": "code",
   "execution_count": 29,
   "metadata": {},
   "outputs": [
    {
     "data": {
      "text/plain": [
       "(0, 500)"
      ]
     },
     "execution_count": 29,
     "metadata": {},
     "output_type": "execute_result"
    },
    {
     "data": {
      "image/png": "[encoded data removed]",
      "text/plain": [
       "<matplotlib.figure.Figure at 0x1106fe898>"
      ]
     },
     "metadata": {},
     "output_type": "display_data"
    }
   ],
   "source": [
    "fig=plt.figure(1,figsize=(18,5))  #Numbers in parentheses determine the dimensions of the plot\n",
    "ax1=fig.add_subplot(111)\n",
    "\n",
    "#Plot desired x and y points.  'ro' tells python to make the points red (r) circles (o).\n",
    "ax1.plot(planet_a, planet_mass, 'ro')    \n",
    "\n",
    "#Plot the function y=100x\n",
    "x=np.arange(0,1000,1)  #Make x a long list of numbers from 0 to 1000, counting by 1\n",
    "y=100*x                #Let y = 100 times x\n",
    "ax1.plot(x,y)       #Plot y vs. x.  By default, python will plot a solid line.\n",
    "\n",
    "for i, (x, y) in enumerate(zip(planet_a, planet_mass)):\n",
    "    ax1.annotate(planet_names[i],xy=(x,y), xycoords='data')\n",
    "    \n",
    "ax1.set_xlim(0,50)\n",
    "ax1.set_ylim(0,500)"
   ]
  },
  {
   "cell_type": "code",
   "execution_count": 22,
   "metadata": {},
   "outputs": [
    {
     "data": {
      "text/plain": [
       "(0.1, 400)"
      ]
     },
     "execution_count": 22,
     "metadata": {},
     "output_type": "execute_result"
    },
    {
     "data": {
      "image/png": "[encoded data removed]",
      "text/plain": [
       "<matplotlib.figure.Figure at 0x10fcfdd68>"
      ]
     },
     "metadata": {},
     "output_type": "display_data"
    }
   ],
   "source": [
    "#All plots should have these two lines\n",
    "fig=plt.figure(1,figsize=(18,5))  #Numbers in parentheses determine the dimensions of the plot\n",
    "ax1=fig.add_subplot(111)     #11 Means make a grid 1 plot box wide by 1 box tall.  \n",
    "                             #The final 1 means let ax1 be the first plot box.\n",
    "\n",
    "\n",
    "#Plot desired x and y points.  'ro' tells python to make the points red (r) circles (o).\n",
    "ax1.plot(planet_a, planet_mass, 'ro')    \n",
    "\n",
    "#Plot the function y=100x\n",
    "x=np.arange(0,1000,1)  #Make x a long list of numbers from 0 to 1000, counting by 1\n",
    "y=100*x                #Let y = 100 times x\n",
    "ax1.plot(x,y)       #Plot y vs. x.  By default, python will plot a solid line.\n",
    "\n",
    "#Now use a loop to label each point with the planet name\n",
    "#Loops in python are weird and might take time getting used to.  \n",
    "#Make sure you put your x and y coordinates of interest in the first set of parentheses\n",
    "#And replace planet_names with whatever variable is holding your point labels\n",
    "for i, (x, y) in enumerate(zip(planet_a, planet_mass)):\n",
    "    ax1.annotate(planet_names[i],xy=(x,y), xycoords='data')\n",
    "    \n",
    "ax1.set_yscale('log')\n",
    "ax1.set_xscale('log')\n",
    "#Change these to 'log' to make a log plot.  Caution!  You do not want to have a 0 in a log plot.\n",
    "#(Because, what is the log of 0?)\n",
    "\n",
    "ax1.set_xlim(1,4)   #Set limits for x axis to make the plot look better\n",
    "ax1.set_ylim(.1,400)  #Set limits for y axis to make the plot look better"
   ]
  },
  {
   "cell_type": "markdown",
   "metadata": {},
   "source": [
    "To write some text in this area, I've switched the drop-down menu above from \"Code\" to \"Markdown\".  Now I can write all the notes I'd like about this plot.  I can also add math, using syntax similar to that used by LaTeX.  Math code needs to be surrounded by dollar signs.  For example, in this plot above, I am plotting the function $y=100 x$.  For homework, you will plot $y=x$ and $y=x^2$.  Double click on this area of the notebook to see the Markdown code."
   ]
  },
  {
   "cell_type": "markdown",
   "metadata": {},
   "source": [
    "## Question 1: Intro to python and jupyter notebooks"
   ]
  },
  {
   "cell_type": "markdown",
   "metadata": {},
   "source": [
    "### As the first part of this assignment, I'd like you to follow through the URSI python tutorial (created by me and Professor Waterman in CS).  Take a moment to write a reflection (1--2 paragraphs) on what you learned.  Questions you may want to consider in your reflection: Have you programmed before?  If so, did you learn something new in this tutorial?  What did you find intuitive?  What did you find confusing?   What additional tests did you try and what did you learn from them?  Is there anything you'd like me to go over in class?"
   ]
  },
  {
   "cell_type": "code",
   "execution_count": null,
   "metadata": {},
   "outputs": [],
   "source": []
  },
  {
   "cell_type": "markdown",
   "metadata": {},
   "source": [
    "<font color=\"red\">*Comments from instructor: (please do not remove this cell)*</font>"
   ]
  },
  {
   "cell_type": "markdown",
   "metadata": {},
   "source": [
    "## Question 2: Solar system demographics and introduction to ipython notebooks"
   ]
  },
  {
   "cell_type": "markdown",
   "metadata": {},
   "source": [
    "### 2(a) Plot the masses of the planets in increasing order of mass."
   ]
  },
  {
   "cell_type": "code",
   "execution_count": null,
   "metadata": {},
   "outputs": [],
   "source": []
  },
  {
   "cell_type": "markdown",
   "metadata": {},
   "source": [
    "<font color=\"red\">*Comments from instructor:*</font> "
   ]
  },
  {
   "cell_type": "markdown",
   "metadata": {},
   "source": [
    "### 2(b) Do you see evidence for 3 categories of planets (corresponding to terrestrial, ice giants, and gas giants)?  Explain your answer."
   ]
  },
  {
   "cell_type": "code",
   "execution_count": null,
   "metadata": {},
   "outputs": [],
   "source": []
  },
  {
   "cell_type": "markdown",
   "metadata": {},
   "source": [
    "<font color=\"red\">*Comments from instructor:*</font>"
   ]
  },
  {
   "cell_type": "markdown",
   "metadata": {},
   "source": [
    "### 2(c) Re-plot the masses of the planets, but this time use a log y axis. "
   ]
  },
  {
   "cell_type": "code",
   "execution_count": null,
   "metadata": {},
   "outputs": [],
   "source": []
  },
  {
   "cell_type": "markdown",
   "metadata": {},
   "source": [
    "<font color=\"red\">*Comments from instructor:*</font>"
   ]
  },
  {
   "cell_type": "markdown",
   "metadata": {},
   "source": [
    "### 2(d) Do you see evidence for 3 categories of planets?  Explain your answer."
   ]
  },
  {
   "cell_type": "code",
   "execution_count": null,
   "metadata": {},
   "outputs": [],
   "source": []
  },
  {
   "cell_type": "markdown",
   "metadata": {},
   "source": [
    "<font color=\"red\">*Comments from instructor:*</font>"
   ]
  },
  {
   "cell_type": "markdown",
   "metadata": {},
   "source": [
    "### 2(e): Plot the densities of the planets vs. distance from the sun.  Try both a linear and log axis for the x-axis and see which one looks better.\n"
   ]
  },
  {
   "cell_type": "code",
   "execution_count": null,
   "metadata": {},
   "outputs": [],
   "source": []
  },
  {
   "cell_type": "markdown",
   "metadata": {},
   "source": [
    "<font color=\"red\">*Comments from instructor:*</font>"
   ]
  },
  {
   "cell_type": "markdown",
   "metadata": {},
   "source": [
    "### 2(f): Describe any trends that you see in the plot you just created.  What are possible explanations for these trends?"
   ]
  },
  {
   "cell_type": "code",
   "execution_count": null,
   "metadata": {},
   "outputs": [],
   "source": []
  },
  {
   "cell_type": "markdown",
   "metadata": {},
   "source": [
    "<font color=\"red\">*Comments from instructor:*</font>"
   ]
  },
  {
   "cell_type": "markdown",
   "metadata": {},
   "source": [
    "## Question 3: Dynamics"
   ]
  },
  {
   "cell_type": "markdown",
   "metadata": {},
   "source": [
    "### 3(a): Plot the period of each planet's orbit on the y-axis vs. semi-major axis, a, on the x-axis.  On top of these points, plot curves of the form $y=Ax$ and $y=Bx^2$, where $A$ and $B$ are adjusted so that the curves intersect the period and semi-major axis of Mercury.  "
   ]
  },
  {
   "cell_type": "code",
   "execution_count": null,
   "metadata": {},
   "outputs": [],
   "source": []
  },
  {
   "cell_type": "markdown",
   "metadata": {},
   "source": [
    "<font color=\"red\">*Comments from instructor:*</font>"
   ]
  },
  {
   "cell_type": "markdown",
   "metadata": {},
   "source": [
    "### 3(b): How do the periods increase with $a$ compared to these 2 curves?"
   ]
  },
  {
   "cell_type": "code",
   "execution_count": null,
   "metadata": {},
   "outputs": [],
   "source": []
  },
  {
   "cell_type": "markdown",
   "metadata": {},
   "source": [
    "<font color=\"red\">*Comments from instructor:*</font>"
   ]
  },
  {
   "cell_type": "markdown",
   "metadata": {},
   "source": [
    "### 3(c): Assuming all planets are undergoing *uniform circular motion*, use Newton's 2nd law, Newton's law of gravitation, and your knowledge of uniform circular motion to derive a relationship between orbital period and radius of an orbit.   Show that this is equivalent to Kepler's 3rd law, which says that $P^2 \\propto a^3$ where $P$ is the period of an orbit, and $a$ is its semi-major axis (equivalent to radius for a circular orbit)."
   ]
  },
  {
   "cell_type": "code",
   "execution_count": null,
   "metadata": {},
   "outputs": [],
   "source": []
  },
  {
   "cell_type": "markdown",
   "metadata": {},
   "source": [
    "<font color=\"red\">*Comments from instructor:*</font>"
   ]
  },
  {
   "cell_type": "markdown",
   "metadata": {},
   "source": [
    "### 3(d): Add a curve demonstrating Kepler’s 3rd law to your plot."
   ]
  },
  {
   "cell_type": "code",
   "execution_count": null,
   "metadata": {},
   "outputs": [],
   "source": []
  },
  {
   "cell_type": "markdown",
   "metadata": {},
   "source": [
    "<font color=\"red\">*Comments from instructor:*</font>"
   ]
  },
  {
   "cell_type": "markdown",
   "metadata": {},
   "source": [
    "### 3(e): Does Kepler’s 3rd law apply to all stars or only the sun? In what way(s) (if at all), would the period of orbits around a more massive star be different? Explain your answers."
   ]
  },
  {
   "cell_type": "code",
   "execution_count": null,
   "metadata": {},
   "outputs": [],
   "source": []
  },
  {
   "cell_type": "markdown",
   "metadata": {},
   "source": [
    "<font color=\"red\">*Comments from instructor:*</font>"
   ]
  },
  {
   "cell_type": "markdown",
   "metadata": {},
   "source": [
    "## 4: Applying your knowledge: Planet 9"
   ]
  },
  {
   "cell_type": "markdown",
   "metadata": {},
   "source": [
    "There is new evidence for an approximately 10-Earth-mass planet (nicknamed \"Planet 9\") orbiting the sun at a=700 AU.  (Google \"Planet 9\" to find out more).\n"
   ]
  },
  {
   "cell_type": "markdown",
   "metadata": {},
   "source": [
    "### 4(a): What would be the length of a year on this planet, in units of Earth years? (Yes, you can probably find this answer online. Please do the calculation yourself!)\\\\\n"
   ]
  },
  {
   "cell_type": "code",
   "execution_count": null,
   "metadata": {},
   "outputs": [],
   "source": []
  },
  {
   "cell_type": "markdown",
   "metadata": {},
   "source": [
    "<font color=\"red\">*Comments from instructor:*</font>"
   ]
  },
  {
   "cell_type": "markdown",
   "metadata": {},
   "source": [
    "Given what you know about the solar system and Planet 9 (mass and semi-major axis), speculate about the following questions:\n"
   ]
  },
  {
   "cell_type": "markdown",
   "metadata": {},
   "source": [
    "### 4(b): If we sent a probe to Planet 9, what would it look like?  What type of planet would it be?  Explain your answer.\n"
   ]
  },
  {
   "cell_type": "code",
   "execution_count": null,
   "metadata": {},
   "outputs": [],
   "source": []
  },
  {
   "cell_type": "markdown",
   "metadata": {},
   "source": [
    "<font color=\"red\">*Comments from instructor:*</font>"
   ]
  },
  {
   "cell_type": "markdown",
   "metadata": {},
   "source": [
    "### 4(c): Do you think Planet 9 formed at 700 AU (this is called “in-situ” formation) or, alternatively, was it formed somewhere else and transported to its current location? Why? (We will talk about these issues in detail later in the semester. For now, just try to think creatively about this question)."
   ]
  },
  {
   "cell_type": "code",
   "execution_count": null,
   "metadata": {},
   "outputs": [],
   "source": []
  },
  {
   "cell_type": "markdown",
   "metadata": {},
   "source": [
    "<font color=\"red\">*Comments from instructor:*</font>"
   ]
  },
  {
   "cell_type": "markdown",
   "metadata": {},
   "source": [
    "### 4(d): Propose a test to determine where Planet 9 formed.  Is your test an observational test, a modeling-based test, or something else?  Clearly describe the predictions of your test for the in-situ formation scenario vs. the transport scenario.\n"
   ]
  },
  {
   "cell_type": "code",
   "execution_count": null,
   "metadata": {},
   "outputs": [],
   "source": []
  },
  {
   "cell_type": "markdown",
   "metadata": {},
   "source": [
    "<font color=\"red\">*Comments from instructor:*</font>"
   ]
  },
  {
   "cell_type": "markdown",
   "metadata": {},
   "source": [
    "## Question 5: Creative thinking"
   ]
  },
  {
   "cell_type": "markdown",
   "metadata": {},
   "source": [
    "### 5(a): Consider some aspect(s) of the solar system of your choice and make a related plot/diagram/visual using python.\n"
   ]
  },
  {
   "cell_type": "code",
   "execution_count": null,
   "metadata": {},
   "outputs": [],
   "source": []
  },
  {
   "cell_type": "markdown",
   "metadata": {},
   "source": [
    "<font color=\"red\">*Comments from instructor:*</font>"
   ]
  },
  {
   "cell_type": "markdown",
   "metadata": {},
   "source": [
    "### 5(b): What did you learn from the plot you made in 5(a)? "
   ]
  },
  {
   "cell_type": "code",
   "execution_count": null,
   "metadata": {},
   "outputs": [],
   "source": []
  },
  {
   "cell_type": "markdown",
   "metadata": {},
   "source": [
    "<font color=\"red\">*Comments from instructor:*</font>"
   ]
  },
  {
   "cell_type": "markdown",
   "metadata": {},
   "source": [
    "## <font color=\"red\"> Grade </font>"
   ]
  },
  {
   "cell_type": "markdown",
   "metadata": {},
   "source": [
    "<font color=\"red\"> Calculations: </font>"
   ]
  },
  {
   "cell_type": "code",
   "execution_count": 14,
   "metadata": {},
   "outputs": [],
   "source": [
    "calculations_grade=0"
   ]
  },
  {
   "cell_type": "markdown",
   "metadata": {},
   "source": [
    "<font color=\"red\"> Concepts: </font>"
   ]
  },
  {
   "cell_type": "code",
   "execution_count": 15,
   "metadata": {},
   "outputs": [],
   "source": [
    "concepts_grade=0"
   ]
  },
  {
   "cell_type": "markdown",
   "metadata": {},
   "source": [
    "<font color=\"red\"> Communication: </font>"
   ]
  },
  {
   "cell_type": "code",
   "execution_count": 16,
   "metadata": {},
   "outputs": [],
   "source": [
    "communication_grade=0"
   ]
  },
  {
   "cell_type": "markdown",
   "metadata": {},
   "source": [
    "<font color=\"red\"> Total grade: </font>"
   ]
  },
  {
   "cell_type": "code",
   "execution_count": 17,
   "metadata": {},
   "outputs": [
    {
     "name": "stdout",
     "output_type": "stream",
     "text": [
      "0\n"
     ]
    }
   ],
   "source": [
    "print(calculations_grade+concepts_grade+communication_grade)"
   ]
  },
  {
   "cell_type": "code",
   "execution_count": null,
   "metadata": {},
   "outputs": [],
   "source": []
  }
 ],
 "metadata": {
  "kernelspec": {
   "display_name": "Python 3",
   "language": "python",
   "name": "python3"
  },
  "language_info": {
   "codemirror_mode": {
    "name": "ipython",
    "version": 3
   },
   "file_extension": ".py",
   "mimetype": "text/x-python",
   "name": "python",
   "nbconvert_exporter": "python",
   "pygments_lexer": "ipython3",
   "version": "3.5.6"
  }
 },
 "nbformat": 4,
 "nbformat_minor": 1
}
